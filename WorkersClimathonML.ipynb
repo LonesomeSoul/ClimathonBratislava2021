{
 "cells": [
  {
   "cell_type": "code",
   "execution_count": 1,
   "id": "b2af7d8c",
   "metadata": {},
   "outputs": [],
   "source": [
    "import string \n",
    "import math\n",
    "import numpy as np \n",
    "import pandas as pd \n",
    "pd.set_option('display.max_columns', 100) \n",
    "pd.set_option('display.max_rows', 10) \n",
    "pd.set_option('display.width', 1000) \n",
    "from itertools import cycle "
   ]
  },
  {
   "cell_type": "code",
   "execution_count": 5,
   "id": "9d7767fb",
   "metadata": {},
   "outputs": [],
   "source": [
    "from sklearn.linear_model import LogisticRegression\n",
    "from sklearn.svm import SVC, LinearSVC\n",
    "from sklearn.ensemble import RandomForestRegressor\n",
    "from sklearn.neighbors import KNeighborsClassifier\n",
    "from sklearn.naive_bayes import GaussianNB\n",
    "from sklearn.linear_model import Perceptron\n",
    "from sklearn.linear_model import SGDClassifier\n",
    "from sklearn.tree import DecisionTreeClassifier\n",
    "import sklearn\n",
    "import datetime\n",
    "from sklearn.model_selection import train_test_split"
   ]
  },
  {
   "cell_type": "code",
   "execution_count": 3,
   "id": "74a93eed",
   "metadata": {},
   "outputs": [
    {
     "data": {
      "text/html": [
       "<div>\n",
       "<style scoped>\n",
       "    .dataframe tbody tr th:only-of-type {\n",
       "        vertical-align: middle;\n",
       "    }\n",
       "\n",
       "    .dataframe tbody tr th {\n",
       "        vertical-align: top;\n",
       "    }\n",
       "\n",
       "    .dataframe thead th {\n",
       "        text-align: right;\n",
       "    }\n",
       "</style>\n",
       "<table border=\"1\" class=\"dataframe\">\n",
       "  <thead>\n",
       "    <tr style=\"text-align: right;\">\n",
       "      <th></th>\n",
       "      <th>way len</th>\n",
       "      <th>job</th>\n",
       "      <th>industry</th>\n",
       "      <th>salary(eur/m)</th>\n",
       "      <th>internet usage</th>\n",
       "      <th>remote atm</th>\n",
       "    </tr>\n",
       "  </thead>\n",
       "  <tbody>\n",
       "    <tr>\n",
       "      <th>0</th>\n",
       "      <td>60</td>\n",
       "      <td>1</td>\n",
       "      <td>1</td>\n",
       "      <td>5000</td>\n",
       "      <td>0</td>\n",
       "      <td>0</td>\n",
       "    </tr>\n",
       "    <tr>\n",
       "      <th>1</th>\n",
       "      <td>100</td>\n",
       "      <td>2</td>\n",
       "      <td>2</td>\n",
       "      <td>3000</td>\n",
       "      <td>4</td>\n",
       "      <td>1</td>\n",
       "    </tr>\n",
       "    <tr>\n",
       "      <th>2</th>\n",
       "      <td>40</td>\n",
       "      <td>3</td>\n",
       "      <td>3</td>\n",
       "      <td>2500</td>\n",
       "      <td>0</td>\n",
       "      <td>0</td>\n",
       "    </tr>\n",
       "    <tr>\n",
       "      <th>3</th>\n",
       "      <td>45</td>\n",
       "      <td>4</td>\n",
       "      <td>2</td>\n",
       "      <td>2500</td>\n",
       "      <td>3</td>\n",
       "      <td>1</td>\n",
       "    </tr>\n",
       "  </tbody>\n",
       "</table>\n",
       "</div>"
      ],
      "text/plain": [
       "   way len  job  industry  salary(eur/m)  internet usage  remote atm\n",
       "0       60    1         1           5000               0           0\n",
       "1      100    2         2           3000               4           1\n",
       "2       40    3         3           2500               0           0\n",
       "3       45    4         2           2500               3           1"
      ]
     },
     "execution_count": 3,
     "metadata": {},
     "output_type": "execute_result"
    }
   ],
   "source": [
    "df=pd.read_excel(r'E:\\guysData.xlsx')\n",
    "df"
   ]
  },
  {
   "cell_type": "code",
   "execution_count": 7,
   "id": "b9fbec9d",
   "metadata": {},
   "outputs": [],
   "source": [
    "size=df[\"job\"].size\n",
    "train={\n",
    "    'way len':df['way len'][0:size],\n",
    "    'job':df['job'][0:size],\n",
    "      'industry':df['industry'][0:size],\n",
    "    'salary(eur/m)':df['salary(eur/m)'][0:size],\n",
    "'internet usage':df['internet usage'][0:size],\n",
    "'internet usage':df['internet usage'][0:size]}\n",
    "df_train=pd.DataFrame(data=train)\n",
    "X = df_train\n",
    "\n",
    "y=df['remote atm'][0:size]"
   ]
  },
  {
   "cell_type": "code",
   "execution_count": 28,
   "id": "cb9f3565",
   "metadata": {},
   "outputs": [],
   "source": [
    "X_train, X_test, y_train, y_test = train_test_split(X, y, test_size = 0.1, random_state =0)"
   ]
  },
  {
   "cell_type": "code",
   "execution_count": 29,
   "id": "c98df480",
   "metadata": {},
   "outputs": [],
   "source": [
    "y_test=y_test.reset_index(drop=True)"
   ]
  },
  {
   "cell_type": "code",
   "execution_count": 30,
   "id": "b3190022",
   "metadata": {},
   "outputs": [],
   "source": [
    "# обучение\n",
    "count=5\n",
    "mean_square_err=[0]*count\n",
    "deviation=[0]*count\n",
    "mae=[0]*count\n",
    "for depth in range(count):\n",
    "    regr = RandomForestRegressor(max_depth=5+depth, random_state=0,min_samples_leaf=5,criterion='mse')\n",
    "    regr.fit(X_train,y_train)\n",
    "    y_pred=regr.predict(X_test)\n",
    "    for i in range(y_pred.size):\n",
    "        mae[depth]+=abs(y_test[i]-y_pred[i])\n",
    "    mae[depth]/=y_pred.size"
   ]
  },
  {
   "cell_type": "code",
   "execution_count": 31,
   "id": "2a851bcb",
   "metadata": {},
   "outputs": [
    {
     "name": "stdout",
     "output_type": "stream",
     "text": [
      "   way len  job  industry  salary(eur/m)  internet usage\n",
      "2       40    3         3           2500               0 0    0\n",
      "Name: remote atm, dtype: int64 [0.67]\n"
     ]
    }
   ],
   "source": [
    "print(X_test, y_test, y_pred)"
   ]
  },
  {
   "cell_type": "code",
   "execution_count": null,
   "id": "566d95e7",
   "metadata": {},
   "outputs": [],
   "source": []
  }
 ],
 "metadata": {
  "kernelspec": {
   "display_name": "Python 3",
   "language": "python",
   "name": "python3"
  },
  "language_info": {
   "codemirror_mode": {
    "name": "ipython",
    "version": 3
   },
   "file_extension": ".py",
   "mimetype": "text/x-python",
   "name": "python",
   "nbconvert_exporter": "python",
   "pygments_lexer": "ipython3",
   "version": "3.8.8"
  }
 },
 "nbformat": 4,
 "nbformat_minor": 5
}
